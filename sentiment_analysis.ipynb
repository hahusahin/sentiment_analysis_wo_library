{
 "cells": [
  {
   "cell_type": "markdown",
   "metadata": {},
   "source": [
    "## IMPORT LIBRARIES"
   ]
  },
  {
   "cell_type": "code",
   "execution_count": 1,
   "metadata": {},
   "outputs": [],
   "source": [
    "import numpy as np \n",
    "import pandas as pd\n",
    "\n",
    "import nltk\n",
    "from nltk.tokenize import word_tokenize\n",
    "from nltk.corpus import stopwords\n",
    "from TurkishStemmer import TurkishStemmer\n",
    "\n",
    "from sklearn.metrics import classification_report"
   ]
  },
  {
   "cell_type": "code",
   "execution_count": 2,
   "metadata": {},
   "outputs": [],
   "source": [
    "pd.set_option('display.max_colwidth', 120)"
   ]
  },
  {
   "cell_type": "markdown",
   "metadata": {},
   "source": [
    "## LOAD DATASET"
   ]
  },
  {
   "cell_type": "code",
   "execution_count": 3,
   "metadata": {},
   "outputs": [],
   "source": [
    "df = pd.read_excel(\"reviews.xlsx\")"
   ]
  },
  {
   "cell_type": "code",
   "execution_count": 4,
   "metadata": {},
   "outputs": [
    {
     "name": "stdout",
     "output_type": "stream",
     "text": [
      "<class 'pandas.core.frame.DataFrame'>\n",
      "RangeIndex: 175 entries, 0 to 174\n",
      "Data columns (total 2 columns):\n",
      " #   Column  Non-Null Count  Dtype \n",
      "---  ------  --------------  ----- \n",
      " 0   YORUM   175 non-null    object\n",
      " 1   DUYGU   175 non-null    object\n",
      "dtypes: object(2)\n",
      "memory usage: 2.9+ KB\n"
     ]
    }
   ],
   "source": [
    "df.info()"
   ]
  },
  {
   "cell_type": "code",
   "execution_count": 5,
   "metadata": {},
   "outputs": [
    {
     "data": {
      "text/html": [
       "<div>\n",
       "<style scoped>\n",
       "    .dataframe tbody tr th:only-of-type {\n",
       "        vertical-align: middle;\n",
       "    }\n",
       "\n",
       "    .dataframe tbody tr th {\n",
       "        vertical-align: top;\n",
       "    }\n",
       "\n",
       "    .dataframe thead th {\n",
       "        text-align: right;\n",
       "    }\n",
       "</style>\n",
       "<table border=\"1\" class=\"dataframe\">\n",
       "  <thead>\n",
       "    <tr style=\"text-align: right;\">\n",
       "      <th></th>\n",
       "      <th>YORUM</th>\n",
       "      <th>DUYGU</th>\n",
       "    </tr>\n",
       "  </thead>\n",
       "  <tbody>\n",
       "    <tr>\n",
       "      <th>0</th>\n",
       "      <td>Satıcı ve buna aracı oldukları için Amazon bilsin ki, satılan ürün sahte/replika her ne diyorsanız, ORJİNAL DEĞİL. U...</td>\n",
       "      <td>olumsuz</td>\n",
       "    </tr>\n",
       "    <tr>\n",
       "      <th>1</th>\n",
       "      <td>Xiaomi Kulaklık Redmi Earbuds SÜründe  ara ara ses kesiliyor bide kulaklığın tıkaç ını çıkardım seri no yok sahte ür...</td>\n",
       "      <td>olumsuz</td>\n",
       "    </tr>\n",
       "    <tr>\n",
       "      <th>2</th>\n",
       "      <td>Ürün başlığına ürünün orjinal olmadığını yazarsanız insanlar buna göre alışveriş yapar tabii kasti bir şekilde yapıl...</td>\n",
       "      <td>olumsuz</td>\n",
       "    </tr>\n",
       "    <tr>\n",
       "      <th>3</th>\n",
       "      <td>ürün elime ulaştığında kullanılmış bir haldeydi neyse sıkıntı yapmadım orjinalliğini sorgulamadım bi de ne göreyim ü...</td>\n",
       "      <td>olumsuz</td>\n",
       "    </tr>\n",
       "    <tr>\n",
       "      <th>4</th>\n",
       "      <td>Ürün replika ürün arkadaşlar orjinal değil bilginiz olsun,kulaklıklar da seri numarası yok,kutudaki seri numarasıda ...</td>\n",
       "      <td>olumsuz</td>\n",
       "    </tr>\n",
       "  </tbody>\n",
       "</table>\n",
       "</div>"
      ],
      "text/plain": [
       "                                                                                                                     YORUM  \\\n",
       "0  Satıcı ve buna aracı oldukları için Amazon bilsin ki, satılan ürün sahte/replika her ne diyorsanız, ORJİNAL DEĞİL. U...   \n",
       "1  Xiaomi Kulaklık Redmi Earbuds SÜründe  ara ara ses kesiliyor bide kulaklığın tıkaç ını çıkardım seri no yok sahte ür...   \n",
       "2  Ürün başlığına ürünün orjinal olmadığını yazarsanız insanlar buna göre alışveriş yapar tabii kasti bir şekilde yapıl...   \n",
       "3  ürün elime ulaştığında kullanılmış bir haldeydi neyse sıkıntı yapmadım orjinalliğini sorgulamadım bi de ne göreyim ü...   \n",
       "4  Ürün replika ürün arkadaşlar orjinal değil bilginiz olsun,kulaklıklar da seri numarası yok,kutudaki seri numarasıda ...   \n",
       "\n",
       "     DUYGU  \n",
       "0  olumsuz  \n",
       "1  olumsuz  \n",
       "2  olumsuz  \n",
       "3  olumsuz  \n",
       "4  olumsuz  "
      ]
     },
     "execution_count": 5,
     "metadata": {},
     "output_type": "execute_result"
    }
   ],
   "source": [
    "df.head()"
   ]
  },
  {
   "cell_type": "code",
   "execution_count": 6,
   "metadata": {},
   "outputs": [
    {
     "data": {
      "text/html": [
       "<div>\n",
       "<style scoped>\n",
       "    .dataframe tbody tr th:only-of-type {\n",
       "        vertical-align: middle;\n",
       "    }\n",
       "\n",
       "    .dataframe tbody tr th {\n",
       "        vertical-align: top;\n",
       "    }\n",
       "\n",
       "    .dataframe thead th {\n",
       "        text-align: right;\n",
       "    }\n",
       "</style>\n",
       "<table border=\"1\" class=\"dataframe\">\n",
       "  <thead>\n",
       "    <tr style=\"text-align: right;\">\n",
       "      <th></th>\n",
       "      <th>YORUM</th>\n",
       "      <th>DUYGU</th>\n",
       "    </tr>\n",
       "  </thead>\n",
       "  <tbody>\n",
       "    <tr>\n",
       "      <th>75</th>\n",
       "      <td>orta kalite ve evin dışındaki ses seviyesi düşük</td>\n",
       "      <td>cekimser</td>\n",
       "    </tr>\n",
       "    <tr>\n",
       "      <th>76</th>\n",
       "      <td>Fiyatına göre iyi bir ürün ancak çok fazla beklentiniz olmasın.</td>\n",
       "      <td>cekimser</td>\n",
       "    </tr>\n",
       "    <tr>\n",
       "      <th>77</th>\n",
       "      <td>Fiyatına göre harika iş çıkarıyor. Sağlam bir müzik kulağınız varsa tatmin etmeyebilir. Hifi performans beklemeyin.</td>\n",
       "      <td>cekimser</td>\n",
       "    </tr>\n",
       "    <tr>\n",
       "      <th>78</th>\n",
       "      <td>Ürün malum.Ancak kutu içeriğinde yazmasına rağmen şarj kablosu yok.</td>\n",
       "      <td>cekimser</td>\n",
       "    </tr>\n",
       "    <tr>\n",
       "      <th>79</th>\n",
       "      <td>Ürün ithalatçı firma garantili ve bazı yönlerine göre orijinal gözüküyor bazı yönlerine göre sahte gözüküyor bunu be...</td>\n",
       "      <td>cekimser</td>\n",
       "    </tr>\n",
       "  </tbody>\n",
       "</table>\n",
       "</div>"
      ],
      "text/plain": [
       "                                                                                                                      YORUM  \\\n",
       "75                                                                         orta kalite ve evin dışındaki ses seviyesi düşük   \n",
       "76                                                          Fiyatına göre iyi bir ürün ancak çok fazla beklentiniz olmasın.   \n",
       "77      Fiyatına göre harika iş çıkarıyor. Sağlam bir müzik kulağınız varsa tatmin etmeyebilir. Hifi performans beklemeyin.   \n",
       "78                                                      Ürün malum.Ancak kutu içeriğinde yazmasına rağmen şarj kablosu yok.   \n",
       "79  Ürün ithalatçı firma garantili ve bazı yönlerine göre orijinal gözüküyor bazı yönlerine göre sahte gözüküyor bunu be...   \n",
       "\n",
       "       DUYGU  \n",
       "75  cekimser  \n",
       "76  cekimser  \n",
       "77  cekimser  \n",
       "78  cekimser  \n",
       "79  cekimser  "
      ]
     },
     "execution_count": 6,
     "metadata": {},
     "output_type": "execute_result"
    }
   ],
   "source": [
    "df[75:80]"
   ]
  },
  {
   "cell_type": "code",
   "execution_count": 7,
   "metadata": {},
   "outputs": [
    {
     "data": {
      "text/html": [
       "<div>\n",
       "<style scoped>\n",
       "    .dataframe tbody tr th:only-of-type {\n",
       "        vertical-align: middle;\n",
       "    }\n",
       "\n",
       "    .dataframe tbody tr th {\n",
       "        vertical-align: top;\n",
       "    }\n",
       "\n",
       "    .dataframe thead th {\n",
       "        text-align: right;\n",
       "    }\n",
       "</style>\n",
       "<table border=\"1\" class=\"dataframe\">\n",
       "  <thead>\n",
       "    <tr style=\"text-align: right;\">\n",
       "      <th></th>\n",
       "      <th>YORUM</th>\n",
       "      <th>DUYGU</th>\n",
       "    </tr>\n",
       "  </thead>\n",
       "  <tbody>\n",
       "    <tr>\n",
       "      <th>170</th>\n",
       "      <td>Gayet güzel bir kulaklık fırsatınız varsa eğer çok çok alıp yedekleyin.</td>\n",
       "      <td>olumlu</td>\n",
       "    </tr>\n",
       "    <tr>\n",
       "      <th>171</th>\n",
       "      <td>Fiyat-Performans ürünü olarak oldukça iyi.</td>\n",
       "      <td>olumlu</td>\n",
       "    </tr>\n",
       "    <tr>\n",
       "      <th>172</th>\n",
       "      <td>ürünü aldım çok kısa sürede ulaştı. ürü iyi bir ürün iPhone telefonumda kullanıyorum. gayet güzel bir ürün</td>\n",
       "      <td>olumlu</td>\n",
       "    </tr>\n",
       "    <tr>\n",
       "      <th>173</th>\n",
       "      <td>Öncekinin kutusunu kaybettiğim için yenisini aldım. Bir daha kaybetsem yine bunu alırım. Tam bir fiyat performans ca...</td>\n",
       "      <td>olumlu</td>\n",
       "    </tr>\n",
       "    <tr>\n",
       "      <th>174</th>\n",
       "      <td>1 Haftadır kullanıyorum ve çok memnunum. Şarjı da söylendiği gibi çabuk bitmiyor. Tavsiye ederim.</td>\n",
       "      <td>olumlu</td>\n",
       "    </tr>\n",
       "  </tbody>\n",
       "</table>\n",
       "</div>"
      ],
      "text/plain": [
       "                                                                                                                       YORUM  \\\n",
       "170                                                  Gayet güzel bir kulaklık fırsatınız varsa eğer çok çok alıp yedekleyin.   \n",
       "171                                                                               Fiyat-Performans ürünü olarak oldukça iyi.   \n",
       "172               ürünü aldım çok kısa sürede ulaştı. ürü iyi bir ürün iPhone telefonumda kullanıyorum. gayet güzel bir ürün   \n",
       "173  Öncekinin kutusunu kaybettiğim için yenisini aldım. Bir daha kaybetsem yine bunu alırım. Tam bir fiyat performans ca...   \n",
       "174                        1 Haftadır kullanıyorum ve çok memnunum. Şarjı da söylendiği gibi çabuk bitmiyor. Tavsiye ederim.   \n",
       "\n",
       "      DUYGU  \n",
       "170  olumlu  \n",
       "171  olumlu  \n",
       "172  olumlu  \n",
       "173  olumlu  \n",
       "174  olumlu  "
      ]
     },
     "execution_count": 7,
     "metadata": {},
     "output_type": "execute_result"
    }
   ],
   "source": [
    "df.tail()"
   ]
  },
  {
   "cell_type": "code",
   "execution_count": 8,
   "metadata": {},
   "outputs": [
    {
     "data": {
      "text/plain": [
       "olumlu      80\n",
       "olumsuz     70\n",
       "cekimser    25\n",
       "Name: DUYGU, dtype: int64"
      ]
     },
     "execution_count": 8,
     "metadata": {},
     "output_type": "execute_result"
    }
   ],
   "source": [
    "df['DUYGU'].value_counts()"
   ]
  },
  {
   "cell_type": "code",
   "execution_count": 9,
   "metadata": {},
   "outputs": [],
   "source": [
    "X = list(df['YORUM'])\n",
    "y = list(df['DUYGU'].map({'olumsuz': 0, 'cekimser': 1, 'olumlu': 2}))"
   ]
  },
  {
   "cell_type": "code",
   "execution_count": 10,
   "metadata": {},
   "outputs": [],
   "source": [
    "# Instead of using sklearn train-test split, I've chosen the test data manually \n",
    "# (to-distribute evenly for each class)\n",
    "X_train = X[0:60]  + X[70:90] + X[95:160]\n",
    "X_test  = X[60:70] + X[90:95] + X[160:175]\n",
    "y_train = y[0:60]  + y[70:90] + y[95:160]\n",
    "y_test  = y[60:70] + y[90:95] + y[160:175]"
   ]
  },
  {
   "cell_type": "markdown",
   "metadata": {},
   "source": [
    "## HELPER FUNCTIONS"
   ]
  },
  {
   "cell_type": "code",
   "execution_count": 11,
   "metadata": {},
   "outputs": [],
   "source": [
    "def preprocess_review(review):\n",
    "    '''\n",
    "    Takes a single review as an input\n",
    "    Returns a processed, clean (tokenized, puntuations/stop words removed and stemmed) sentence\n",
    "    '''\n",
    "    tokenized = word_tokenize(review.lower(), language='turkish')\n",
    "    no_punc = [t for t in tokenized if t.isalpha()]\n",
    "    no_stop = [t for t in no_punc if t not in stopwords.words('turkish')]\n",
    "    \n",
    "    stemmer = TurkishStemmer()\n",
    "    review_cleaned = [stemmer.stem(t) for t in no_stop]\n",
    "    \n",
    "    return review_cleaned"
   ]
  },
  {
   "cell_type": "code",
   "execution_count": 12,
   "metadata": {},
   "outputs": [],
   "source": [
    "def frequencies(reviews, labels):\n",
    "    '''\n",
    "    Takes list of reviews and sentiment classes as input\n",
    "    Returns a dictionary that maps each pair of (word, label) to its frequency\n",
    "    '''\n",
    "    freqs = {}\n",
    "    \n",
    "    for y, review in zip(labels, reviews):\n",
    "        for word in preprocess_review(review):\n",
    "            pair = (word, y)\n",
    "            if pair in freqs:\n",
    "                freqs[pair] += 1\n",
    "            else:\n",
    "                freqs[pair] = 1\n",
    "\n",
    "    return freqs"
   ]
  },
  {
   "cell_type": "code",
   "execution_count": 13,
   "metadata": {},
   "outputs": [],
   "source": [
    "def log_probs(freqs, labels):\n",
    "    '''\n",
    "    Takes frequencies and sentiment class labels as input\n",
    "    Returns log-likelihood of each word for each class\n",
    "    '''\n",
    "    log_likelihoods = {}\n",
    "    \n",
    "    # Number of labels for each class\n",
    "    y_neg = labels.count(0)\n",
    "    y_notr = labels.count(1)\n",
    "    y_pos = labels.count(2)\n",
    "    \n",
    "    # Prior probabilities for each class\n",
    "    logprior_neg = np.log(y_neg / len(labels))\n",
    "    logprior_notr = np.log(y_notr / len(labels))\n",
    "    logprior_pos = np.log(y_pos / len(labels))\n",
    "    log_priors = (logprior_neg, logprior_notr, logprior_pos)\n",
    "    \n",
    "    #unique words (vocabulary)\n",
    "    vocab = set([pair[0] for pair in freqs.keys()]) \n",
    "    \n",
    "    # Total Number of word-frequencies for each class\n",
    "    N_neg = N_notr = N_pos = 0\n",
    "    for pair in freqs.keys():\n",
    "        if pair[1] == 0:\n",
    "            N_neg += freqs[pair]\n",
    "        elif pair[1] == 1:\n",
    "            N_notr += freqs[pair]\n",
    "        else:\n",
    "            N_pos += freqs[pair]\n",
    "\n",
    "    for word in vocab:\n",
    "        # neg/notr/pos frequency of the word\n",
    "        freq_neg = freqs.get((word, 0), 0)\n",
    "        freq_notr = freqs.get((word, 1), 0)\n",
    "        freq_pos = freqs.get((word, 2), 0)\n",
    "\n",
    "        # neg/notr/pos probability of the word\n",
    "        p_neg = (freq_neg + 1) / (N_neg + len(vocab))\n",
    "        p_notr = (freq_notr + 1) / (N_notr + len(vocab))\n",
    "        p_pos = (freq_pos + 1) / (N_pos + len(vocab))\n",
    "        \n",
    "        # log probabilities (likelihood) of the word for each class\n",
    "        log_likelihoods[(word, \"neg\")] = np.log(p_neg)\n",
    "        log_likelihoods[(word, \"notr\")] = np.log(p_notr)\n",
    "        log_likelihoods[(word, \"pos\")] = np.log(p_pos)\n",
    "        \n",
    "    return log_priors, log_likelihoods"
   ]
  },
  {
   "cell_type": "code",
   "execution_count": 14,
   "metadata": {},
   "outputs": [],
   "source": [
    "def predict_reviews(reviews, y_true, logpriors, log_likelihoods):\n",
    "    \"\"\"\n",
    "    Takes list of reviews, true labels, log-probabilities as input\n",
    "    Prints the evaluation metric results\n",
    "    \"\"\"\n",
    "    y_preds = []\n",
    "    \n",
    "    for review in reviews:\n",
    "        words = preprocess_review(review)\n",
    "        \n",
    "        p_neg = logpriors[0]\n",
    "        p_notr = logpriors[1]\n",
    "        p_pos = logpriors[2]\n",
    "        \n",
    "        for word in words:    \n",
    "            p_neg += log_likelihoods.get((word, \"neg\"), 0)\n",
    "            p_notr += log_likelihoods.get((word, \"notr\"), 0)\n",
    "            p_pos += log_likelihoods.get((word, \"pos\"), 0)\n",
    "\n",
    "        y_preds.append(np.argmax(np.array([p_neg, p_notr, p_pos])))\n",
    "\n",
    "    print(classification_report(np.array(y_true), \n",
    "                                np.array(y_preds), \n",
    "                                target_names=[\"olumsuz\",\"cekimser\",\"olumlu\"]))\n",
    "    "
   ]
  },
  {
   "cell_type": "markdown",
   "metadata": {},
   "source": [
    "## MODEL"
   ]
  },
  {
   "cell_type": "code",
   "execution_count": 15,
   "metadata": {},
   "outputs": [],
   "source": [
    "# Obtain word frequencies for each class\n",
    "freqs = frequencies(X_train, y_train)"
   ]
  },
  {
   "cell_type": "code",
   "execution_count": 16,
   "metadata": {},
   "outputs": [],
   "source": [
    "# Calculate log-likelihoods (train the model)\n",
    "log_priors, log_likelihoods = log_probs(freqs, y_train)"
   ]
  },
  {
   "cell_type": "code",
   "execution_count": 17,
   "metadata": {},
   "outputs": [
    {
     "name": "stdout",
     "output_type": "stream",
     "text": [
      "              precision    recall  f1-score   support\n",
      "\n",
      "     olumsuz       0.73      0.80      0.76        10\n",
      "    cekimser       0.00      0.00      0.00         5\n",
      "      olumlu       0.78      0.93      0.85        15\n",
      "\n",
      "    accuracy                           0.73        30\n",
      "   macro avg       0.50      0.58      0.54        30\n",
      "weighted avg       0.63      0.73      0.68        30\n",
      "\n"
     ]
    }
   ],
   "source": [
    "# Make predictions on test set using the probabilities\n",
    "predict_reviews(X_test, y_test, log_priors, log_likelihoods)"
   ]
  },
  {
   "cell_type": "markdown",
   "metadata": {},
   "source": [
    "**RESULT**\n",
    "*  My Model has obtained **73%** accuracy on the test set\n",
    "*  The result is low because of the limited data (total of 175 reviews (train:145, test:30))"
   ]
  }
 ],
 "metadata": {
  "kernelspec": {
   "display_name": "Python 3",
   "language": "python",
   "name": "python3"
  },
  "language_info": {
   "codemirror_mode": {
    "name": "ipython",
    "version": 3
   },
   "file_extension": ".py",
   "mimetype": "text/x-python",
   "name": "python",
   "nbconvert_exporter": "python",
   "pygments_lexer": "ipython3",
   "version": "3.8.5"
  }
 },
 "nbformat": 4,
 "nbformat_minor": 4
}
