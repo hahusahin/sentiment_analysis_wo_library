{
 "cells": [
  {
   "cell_type": "markdown",
   "metadata": {},
   "source": [
    "## IMPORT LIBRARIES"
   ]
  },
  {
   "cell_type": "code",
   "execution_count": 1,
   "metadata": {},
   "outputs": [],
   "source": [
    "import requests\n",
    "from bs4 import BeautifulSoup\n",
    "import pandas as pd"
   ]
  },
  {
   "cell_type": "markdown",
   "metadata": {},
   "source": [
    "**PRODUCT THAT I USED OF THE REVIEWS**\n",
    "\n",
    "https://www.amazon.com.tr/Xiaomi-Wireless-Bluetooth-Kablosuz-Kulakl%C4%B1k/dp/B08GSQ7B9Z/"
   ]
  },
  {
   "cell_type": "markdown",
   "metadata": {},
   "source": [
    "## CONSTANTS"
   ]
  },
  {
   "cell_type": "code",
   "execution_count": 2,
   "metadata": {},
   "outputs": [],
   "source": [
    "# Used to avoid detection as a bot\n",
    "headers = {\"User-Agent\":\"Mozilla/5.0 (Windows NT 10.0; Win64; x64; rv:66.0) Gecko/20100101 Firefox/66.0\", \n",
    "           \"Accept-Encoding\":\"gzip, deflate\", \"Accept\":\"text/html,application/xhtml+xml,application/xml;q=0.9,*/*;q=0.8\", \n",
    "           \"DNT\":\"1\",\"Connection\":\"close\", \"Upgrade-Insecure-Requests\":\"1\"}\n",
    "\n",
    "# The url\n",
    "base_url = \"https://www.amazon.com.tr/Xiaomi-Wireless-Bluetooth-Kablosuz-Kulakl%C4%B1k/product-reviews/B08GSQ7B9Z/ref=cm_cr_arp_d_paging_btm_next_2?ie=UTF8&reviewerType=all_reviews&pageNumber={}\"\n",
    "\n",
    "# Number of page\n",
    "no_pages = 30 "
   ]
  },
  {
   "cell_type": "markdown",
   "metadata": {},
   "source": [
    "## WEB-SCRAPING"
   ]
  },
  {
   "cell_type": "code",
   "execution_count": 3,
   "metadata": {},
   "outputs": [],
   "source": [
    "results = []\n",
    "\n",
    "for page in range(1, no_pages+1):\n",
    "    res = requests.get(base_url.format(page), headers=headers)\n",
    "    soup = BeautifulSoup(res.text, 'lxml')\n",
    "\n",
    "    collections = soup.find_all('span', attrs={'class':'a-size-base review-text review-text-content'})\n",
    "    for item in collections:\n",
    "        review = item.select('span > span')[0].text.strip()\n",
    "        if len(review) < 300:  # To avoid long reviews\n",
    "            results.append(review)"
   ]
  },
  {
   "cell_type": "markdown",
   "metadata": {},
   "source": [
    "## WRITE TO DISK"
   ]
  },
  {
   "cell_type": "code",
   "execution_count": 4,
   "metadata": {},
   "outputs": [],
   "source": [
    "# Convert results into dataframe and write to disk as excel document\n",
    "df = pd.DataFrame(results, columns=['YORUM'])\n",
    "df.to_excel('yorumlar.xlsx', index=False)"
   ]
  }
 ],
 "metadata": {
  "kernelspec": {
   "display_name": "Python 3",
   "language": "python",
   "name": "python3"
  },
  "language_info": {
   "codemirror_mode": {
    "name": "ipython",
    "version": 3
   },
   "file_extension": ".py",
   "mimetype": "text/x-python",
   "name": "python",
   "nbconvert_exporter": "python",
   "pygments_lexer": "ipython3",
   "version": "3.8.5"
  }
 },
 "nbformat": 4,
 "nbformat_minor": 4
}
